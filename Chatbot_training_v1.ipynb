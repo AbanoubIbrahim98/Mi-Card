{
  "nbformat": 4,
  "nbformat_minor": 0,
  "metadata": {
    "colab": {
      "name": "Chatbot-training-v1.ipynb",
      "provenance": [],
      "collapsed_sections": [],
      "authorship_tag": "ABX9TyPADKZ6MvCqDCUXuLiWu2Da",
      "include_colab_link": true
    },
    "kernelspec": {
      "name": "python3",
      "display_name": "Python 3"
    },
    "language_info": {
      "name": "python"
    },
    "accelerator": "GPU"
  },
  "cells": [
    {
      "cell_type": "markdown",
      "metadata": {
        "id": "view-in-github",
        "colab_type": "text"
      },
      "source": [
        "<a href=\"https://colab.research.google.com/github/AbanoubIbrahim98/Mi-Card/blob/main/Chatbot_training_v1.ipynb\" target=\"_parent\"><img src=\"https://colab.research.google.com/assets/colab-badge.svg\" alt=\"Open In Colab\"/></a>"
      ]
    },
    {
      "cell_type": "code",
      "metadata": {
        "colab": {
          "base_uri": "https://localhost:8080/"
        },
        "id": "CzgPnqTbohmO",
        "outputId": "17f3f3d2-46ec-44d1-8a4a-697876b6d759"
      },
      "source": [
        "from google.colab import drive\n",
        "drive.mount('/content/drive')"
      ],
      "execution_count": 1,
      "outputs": [
        {
          "output_type": "stream",
          "text": [
            "Mounted at /content/drive\n"
          ],
          "name": "stdout"
        }
      ]
    },
    {
      "cell_type": "code",
      "metadata": {
        "id": "8SDhNFiJpZYE"
      },
      "source": [
        "dataset = 'drive/My Drive/dataset-chatbot-v2.json'"
      ],
      "execution_count": 2,
      "outputs": []
    },
    {
      "cell_type": "code",
      "metadata": {
        "id": "iH2tshAWp5b-"
      },
      "source": [
        "import tensorflow as tf\n",
        "import numpy as np\n",
        "import pandas as pd\n",
        "import json\n",
        "import nltk\n",
        "from tensorflow.keras.preprocessing.text import Tokenizer\n",
        "from tensorflow.keras.layers import Input, Embedding, LSTM , Dense,GlobalMaxPooling1D,Flatten\n",
        "from tensorflow.keras.models import Model\n",
        "import matplotlib.pyplot as plt\n",
        "import string\n",
        "from tensorflow.keras.preprocessing.text import Tokenizer\n",
        "from tensorflow.keras.preprocessing.sequence import pad_sequences\n",
        "from sklearn.preprocessing import LabelEncoder\n",
        "import random\n"
      ],
      "execution_count": 30,
      "outputs": []
    },
    {
      "cell_type": "code",
      "metadata": {
        "id": "qBYm8aAHqNk-"
      },
      "source": [
        "with open(dataset) as content:\n",
        "  data1 = json.load(content)"
      ],
      "execution_count": 19,
      "outputs": []
    },
    {
      "cell_type": "code",
      "metadata": {
        "id": "WDL-Mzq8tcyT"
      },
      "source": [
        "tags = []\n",
        "inputs = []\n",
        "responses={}\n",
        "for intent in data1['intents']:\n",
        "  responses[intent['tag']]=intent['responses']\n",
        "  for lines in intent['input']:\n",
        "    inputs.append(lines)\n",
        "    tags.append(intent['tag'])"
      ],
      "execution_count": 21,
      "outputs": []
    },
    {
      "cell_type": "code",
      "metadata": {
        "id": "S1ie01vWtq4P"
      },
      "source": [
        "data = pd.DataFrame({\"inputs\":inputs,\n",
        "                     \"tags\":tags})\n"
      ],
      "execution_count": 14,
      "outputs": []
    },
    {
      "cell_type": "code",
      "metadata": {
        "id": "BPWbCowOttZ1"
      },
      "source": [
        "data = data.sample(frac=1)\n"
      ],
      "execution_count": 15,
      "outputs": []
    },
    {
      "cell_type": "code",
      "metadata": {
        "id": "hHwu4o7NtxW_"
      },
      "source": [
        "data['inputs'] = data['inputs'].apply(lambda wrd:[ltrs.lower() for ltrs in wrd if ltrs not in string.punctuation])\n",
        "data['inputs'] = data['inputs'].apply(lambda wrd: ''.join(wrd))"
      ],
      "execution_count": 16,
      "outputs": []
    },
    {
      "cell_type": "code",
      "metadata": {
        "id": "D-GKJUgGt4vh"
      },
      "source": [
        "tokenizer = Tokenizer(num_words=2000)\n",
        "tokenizer.fit_on_texts(data['inputs'])\n",
        "train = tokenizer.texts_to_sequences(data['inputs'])\n",
        "#apply padding\n",
        "x_train = pad_sequences(train)\n",
        "#encoding the outputs\n",
        "le = LabelEncoder()\n",
        "y_train = le.fit_transform(data['tags'])"
      ],
      "execution_count": 22,
      "outputs": []
    },
    {
      "cell_type": "code",
      "metadata": {
        "colab": {
          "base_uri": "https://localhost:8080/"
        },
        "id": "q45rA4QWuG_3",
        "outputId": "f7673b6a-7a9f-45f5-ab66-50ac3ae7b292"
      },
      "source": [
        "input_shape = x_train.shape[1]\n",
        "print(input_shape)\n"
      ],
      "execution_count": 23,
      "outputs": [
        {
          "output_type": "stream",
          "text": [
            "8\n"
          ],
          "name": "stdout"
        }
      ]
    },
    {
      "cell_type": "code",
      "metadata": {
        "colab": {
          "base_uri": "https://localhost:8080/"
        },
        "id": "AUlrKX9jvLwH",
        "outputId": "cc552488-e152-4906-e48a-847af04a2a1e"
      },
      "source": [
        "#define vocabulary\n",
        "vocabulary = len(tokenizer.word_index)\n",
        "print(\"number of unique words : \",vocabulary)\n",
        "output_length = le.classes_.shape[0]\n",
        "print(\"output length: \",output_length)"
      ],
      "execution_count": 24,
      "outputs": [
        {
          "output_type": "stream",
          "text": [
            "number of unique words :  96\n",
            "output length:  8\n"
          ],
          "name": "stdout"
        }
      ]
    },
    {
      "cell_type": "code",
      "metadata": {
        "id": "6uM4d0o4vV1l"
      },
      "source": [
        "i = Input(shape=(input_shape,))\n",
        "x = Embedding(vocabulary+1,10)(i)\n",
        "x = LSTM(10,return_sequences=True)(x)\n",
        "x = Flatten()(x)\n",
        "x = Dense(output_length,activation=\"softmax\")(x)\n",
        "model  = Model(i,x)"
      ],
      "execution_count": 25,
      "outputs": []
    },
    {
      "cell_type": "code",
      "metadata": {
        "id": "oY68chZcvaCG"
      },
      "source": [
        "model.compile(loss=\"sparse_categorical_crossentropy\",optimizer='adam', metrics=['accuracy'])"
      ],
      "execution_count": 26,
      "outputs": []
    },
    {
      "cell_type": "code",
      "metadata": {
        "colab": {
          "base_uri": "https://localhost:8080/"
        },
        "id": "BnWHcOf-veiX",
        "outputId": "eb5a5617-abed-4ac0-b7d5-0f680f3fc730"
      },
      "source": [
        "train = model.fit(x_train,y_train,epochs=200)\n"
      ],
      "execution_count": 27,
      "outputs": [
        {
          "output_type": "stream",
          "text": [
            "Epoch 1/200\n",
            "3/3 [==============================] - 31s 8ms/step - loss: 2.0761 - accuracy: 0.1802\n",
            "Epoch 2/200\n",
            "3/3 [==============================] - 0s 5ms/step - loss: 2.0717 - accuracy: 0.2260\n",
            "Epoch 3/200\n",
            "3/3 [==============================] - 0s 5ms/step - loss: 2.0700 - accuracy: 0.2127\n",
            "Epoch 4/200\n",
            "3/3 [==============================] - 0s 5ms/step - loss: 2.0645 - accuracy: 0.2367\n",
            "Epoch 5/200\n",
            "3/3 [==============================] - 0s 5ms/step - loss: 2.0586 - accuracy: 0.2501\n",
            "Epoch 6/200\n",
            "3/3 [==============================] - 0s 5ms/step - loss: 2.0537 - accuracy: 0.2361\n",
            "Epoch 7/200\n",
            "3/3 [==============================] - 0s 5ms/step - loss: 2.0469 - accuracy: 0.2478\n",
            "Epoch 8/200\n",
            "3/3 [==============================] - 0s 5ms/step - loss: 2.0438 - accuracy: 0.1814\n",
            "Epoch 9/200\n",
            "3/3 [==============================] - 0s 5ms/step - loss: 2.0374 - accuracy: 0.2088\n",
            "Epoch 10/200\n",
            "3/3 [==============================] - 0s 5ms/step - loss: 2.0324 - accuracy: 0.2049\n",
            "Epoch 11/200\n",
            "3/3 [==============================] - 0s 5ms/step - loss: 2.0348 - accuracy: 0.1713\n",
            "Epoch 12/200\n",
            "3/3 [==============================] - 0s 5ms/step - loss: 2.0115 - accuracy: 0.2221\n",
            "Epoch 13/200\n",
            "3/3 [==============================] - 0s 5ms/step - loss: 2.0012 - accuracy: 0.2182\n",
            "Epoch 14/200\n",
            "3/3 [==============================] - 0s 5ms/step - loss: 1.9737 - accuracy: 0.2573\n",
            "Epoch 15/200\n",
            "3/3 [==============================] - 0s 5ms/step - loss: 1.9789 - accuracy: 0.2299\n",
            "Epoch 16/200\n",
            "3/3 [==============================] - 0s 5ms/step - loss: 1.9787 - accuracy: 0.2104\n",
            "Epoch 17/200\n",
            "3/3 [==============================] - 0s 6ms/step - loss: 1.9714 - accuracy: 0.2361\n",
            "Epoch 18/200\n",
            "3/3 [==============================] - 0s 6ms/step - loss: 1.9513 - accuracy: 0.2400\n",
            "Epoch 19/200\n",
            "3/3 [==============================] - 0s 6ms/step - loss: 1.9807 - accuracy: 0.1736\n",
            "Epoch 20/200\n",
            "3/3 [==============================] - 0s 5ms/step - loss: 1.9277 - accuracy: 0.2267\n",
            "Epoch 21/200\n",
            "3/3 [==============================] - 0s 5ms/step - loss: 1.9270 - accuracy: 0.2188\n",
            "Epoch 22/200\n",
            "3/3 [==============================] - 0s 6ms/step - loss: 1.8885 - accuracy: 0.2579\n",
            "Epoch 23/200\n",
            "3/3 [==============================] - 0s 5ms/step - loss: 1.9270 - accuracy: 0.2351\n",
            "Epoch 24/200\n",
            "3/3 [==============================] - 0s 5ms/step - loss: 1.8691 - accuracy: 0.2507\n",
            "Epoch 25/200\n",
            "3/3 [==============================] - 0s 5ms/step - loss: 1.8427 - accuracy: 0.2703\n",
            "Epoch 26/200\n",
            "3/3 [==============================] - 0s 5ms/step - loss: 1.8534 - accuracy: 0.2585\n",
            "Epoch 27/200\n",
            "3/3 [==============================] - 0s 5ms/step - loss: 1.8053 - accuracy: 0.2703\n",
            "Epoch 28/200\n",
            "3/3 [==============================] - 0s 5ms/step - loss: 1.8176 - accuracy: 0.3028\n",
            "Epoch 29/200\n",
            "3/3 [==============================] - 0s 5ms/step - loss: 1.7879 - accuracy: 0.3229\n",
            "Epoch 30/200\n",
            "3/3 [==============================] - 0s 5ms/step - loss: 1.7655 - accuracy: 0.3525\n",
            "Epoch 31/200\n",
            "3/3 [==============================] - 0s 7ms/step - loss: 1.7211 - accuracy: 0.3939\n",
            "Epoch 32/200\n",
            "3/3 [==============================] - 0s 5ms/step - loss: 1.7349 - accuracy: 0.3408\n",
            "Epoch 33/200\n",
            "3/3 [==============================] - 0s 6ms/step - loss: 1.6978 - accuracy: 0.3665\n",
            "Epoch 34/200\n",
            "3/3 [==============================] - 0s 4ms/step - loss: 1.6888 - accuracy: 0.3548\n",
            "Epoch 35/200\n",
            "3/3 [==============================] - 0s 5ms/step - loss: 1.6819 - accuracy: 0.3532\n",
            "Epoch 36/200\n",
            "3/3 [==============================] - 0s 4ms/step - loss: 1.6454 - accuracy: 0.3688\n",
            "Epoch 37/200\n",
            "3/3 [==============================] - 0s 5ms/step - loss: 1.6338 - accuracy: 0.3375\n",
            "Epoch 38/200\n",
            "3/3 [==============================] - 0s 5ms/step - loss: 1.6113 - accuracy: 0.3805\n",
            "Epoch 39/200\n",
            "3/3 [==============================] - 0s 5ms/step - loss: 1.5456 - accuracy: 0.3649\n",
            "Epoch 40/200\n",
            "3/3 [==============================] - 0s 4ms/step - loss: 1.5227 - accuracy: 0.3688\n",
            "Epoch 41/200\n",
            "3/3 [==============================] - 0s 4ms/step - loss: 1.5070 - accuracy: 0.3453\n",
            "Epoch 42/200\n",
            "3/3 [==============================] - 0s 5ms/step - loss: 1.4896 - accuracy: 0.4023\n",
            "Epoch 43/200\n",
            "3/3 [==============================] - 0s 5ms/step - loss: 1.4648 - accuracy: 0.4140\n",
            "Epoch 44/200\n",
            "3/3 [==============================] - 0s 5ms/step - loss: 1.4538 - accuracy: 0.3867\n",
            "Epoch 45/200\n",
            "3/3 [==============================] - 0s 5ms/step - loss: 1.4347 - accuracy: 0.3671\n",
            "Epoch 46/200\n",
            "3/3 [==============================] - 0s 5ms/step - loss: 1.4181 - accuracy: 0.3593\n",
            "Epoch 47/200\n",
            "3/3 [==============================] - 0s 5ms/step - loss: 1.4326 - accuracy: 0.3437\n",
            "Epoch 48/200\n",
            "3/3 [==============================] - 0s 4ms/step - loss: 1.3595 - accuracy: 0.4325\n",
            "Epoch 49/200\n",
            "3/3 [==============================] - 0s 5ms/step - loss: 1.3490 - accuracy: 0.4387\n",
            "Epoch 50/200\n",
            "3/3 [==============================] - 0s 4ms/step - loss: 1.3809 - accuracy: 0.4338\n",
            "Epoch 51/200\n",
            "3/3 [==============================] - 0s 5ms/step - loss: 1.3159 - accuracy: 0.4891\n",
            "Epoch 52/200\n",
            "3/3 [==============================] - 0s 5ms/step - loss: 1.2684 - accuracy: 0.5204\n",
            "Epoch 53/200\n",
            "3/3 [==============================] - 0s 5ms/step - loss: 1.2648 - accuracy: 0.5204\n",
            "Epoch 54/200\n",
            "3/3 [==============================] - 0s 6ms/step - loss: 1.2458 - accuracy: 0.5070\n",
            "Epoch 55/200\n",
            "3/3 [==============================] - 0s 4ms/step - loss: 1.2431 - accuracy: 0.5070\n",
            "Epoch 56/200\n",
            "3/3 [==============================] - 0s 5ms/step - loss: 1.1998 - accuracy: 0.5132\n",
            "Epoch 57/200\n",
            "3/3 [==============================] - 0s 5ms/step - loss: 1.1776 - accuracy: 0.6043\n",
            "Epoch 58/200\n",
            "3/3 [==============================] - 0s 5ms/step - loss: 1.1849 - accuracy: 0.5457\n",
            "Epoch 59/200\n",
            "3/3 [==============================] - 0s 5ms/step - loss: 1.1316 - accuracy: 0.6026\n",
            "Epoch 60/200\n",
            "3/3 [==============================] - 0s 4ms/step - loss: 1.1669 - accuracy: 0.5619\n",
            "Epoch 61/200\n",
            "3/3 [==============================] - 0s 5ms/step - loss: 1.1461 - accuracy: 0.5736\n",
            "Epoch 62/200\n",
            "3/3 [==============================] - 0s 5ms/step - loss: 1.1307 - accuracy: 0.5954\n",
            "Epoch 63/200\n",
            "3/3 [==============================] - 0s 5ms/step - loss: 1.0758 - accuracy: 0.6250\n",
            "Epoch 64/200\n",
            "3/3 [==============================] - 0s 5ms/step - loss: 1.0872 - accuracy: 0.6133\n",
            "Epoch 65/200\n",
            "3/3 [==============================] - 0s 4ms/step - loss: 1.0190 - accuracy: 0.6452\n",
            "Epoch 66/200\n",
            "3/3 [==============================] - 0s 4ms/step - loss: 1.0416 - accuracy: 0.6201\n",
            "Epoch 67/200\n",
            "3/3 [==============================] - 0s 5ms/step - loss: 0.9762 - accuracy: 0.6865\n",
            "Epoch 68/200\n",
            "3/3 [==============================] - 0s 5ms/step - loss: 1.0012 - accuracy: 0.6140\n",
            "Epoch 69/200\n",
            "3/3 [==============================] - 0s 5ms/step - loss: 0.9374 - accuracy: 0.7347\n",
            "Epoch 70/200\n",
            "3/3 [==============================] - 0s 5ms/step - loss: 0.9244 - accuracy: 0.7330\n",
            "Epoch 71/200\n",
            "3/3 [==============================] - 0s 4ms/step - loss: 0.9048 - accuracy: 0.7470\n",
            "Epoch 72/200\n",
            "3/3 [==============================] - 0s 4ms/step - loss: 0.9065 - accuracy: 0.7197\n",
            "Epoch 73/200\n",
            "3/3 [==============================] - 0s 5ms/step - loss: 0.8809 - accuracy: 0.7314\n",
            "Epoch 74/200\n",
            "3/3 [==============================] - 0s 5ms/step - loss: 0.8846 - accuracy: 0.7554\n",
            "Epoch 75/200\n",
            "3/3 [==============================] - 0s 4ms/step - loss: 0.8488 - accuracy: 0.7476\n",
            "Epoch 76/200\n",
            "3/3 [==============================] - 0s 5ms/step - loss: 0.8015 - accuracy: 0.7945\n",
            "Epoch 77/200\n",
            "3/3 [==============================] - 0s 5ms/step - loss: 0.8345 - accuracy: 0.7483\n",
            "Epoch 78/200\n",
            "3/3 [==============================] - 0s 5ms/step - loss: 0.7738 - accuracy: 0.8169\n",
            "Epoch 79/200\n",
            "3/3 [==============================] - 0s 5ms/step - loss: 0.7452 - accuracy: 0.8231\n",
            "Epoch 80/200\n",
            "3/3 [==============================] - 0s 5ms/step - loss: 0.7849 - accuracy: 0.8153\n",
            "Epoch 81/200\n",
            "3/3 [==============================] - 0s 5ms/step - loss: 0.7563 - accuracy: 0.8058\n",
            "Epoch 82/200\n",
            "3/3 [==============================] - 0s 4ms/step - loss: 0.7620 - accuracy: 0.8003\n",
            "Epoch 83/200\n",
            "3/3 [==============================] - 0s 5ms/step - loss: 0.6969 - accuracy: 0.8533\n",
            "Epoch 84/200\n",
            "3/3 [==============================] - 0s 4ms/step - loss: 0.6899 - accuracy: 0.8494\n",
            "Epoch 85/200\n",
            "3/3 [==============================] - 0s 4ms/step - loss: 0.6891 - accuracy: 0.8634\n",
            "Epoch 86/200\n",
            "3/3 [==============================] - 0s 5ms/step - loss: 0.6478 - accuracy: 0.8875\n",
            "Epoch 87/200\n",
            "3/3 [==============================] - 0s 5ms/step - loss: 0.6550 - accuracy: 0.8322\n",
            "Epoch 88/200\n",
            "3/3 [==============================] - 0s 5ms/step - loss: 0.6555 - accuracy: 0.8751\n",
            "Epoch 89/200\n",
            "3/3 [==============================] - 0s 5ms/step - loss: 0.6400 - accuracy: 0.8478\n",
            "Epoch 90/200\n",
            "3/3 [==============================] - 0s 5ms/step - loss: 0.5869 - accuracy: 0.8712\n",
            "Epoch 91/200\n",
            "3/3 [==============================] - 0s 5ms/step - loss: 0.5531 - accuracy: 0.8914\n",
            "Epoch 92/200\n",
            "3/3 [==============================] - 0s 5ms/step - loss: 0.6037 - accuracy: 0.8920\n",
            "Epoch 93/200\n",
            "3/3 [==============================] - 0s 6ms/step - loss: 0.5706 - accuracy: 0.9015\n",
            "Epoch 94/200\n",
            "3/3 [==============================] - 0s 5ms/step - loss: 0.5432 - accuracy: 0.9093\n",
            "Epoch 95/200\n",
            "3/3 [==============================] - 0s 4ms/step - loss: 0.5756 - accuracy: 0.8764\n",
            "Epoch 96/200\n",
            "3/3 [==============================] - 0s 5ms/step - loss: 0.5235 - accuracy: 0.8891\n",
            "Epoch 97/200\n",
            "3/3 [==============================] - 0s 5ms/step - loss: 0.5358 - accuracy: 0.8540\n",
            "Epoch 98/200\n",
            "3/3 [==============================] - 0s 4ms/step - loss: 0.5385 - accuracy: 0.8898\n",
            "Epoch 99/200\n",
            "3/3 [==============================] - 0s 5ms/step - loss: 0.4750 - accuracy: 0.9194\n",
            "Epoch 100/200\n",
            "3/3 [==============================] - 0s 4ms/step - loss: 0.4896 - accuracy: 0.9037\n",
            "Epoch 101/200\n",
            "3/3 [==============================] - 0s 5ms/step - loss: 0.4836 - accuracy: 0.9037\n",
            "Epoch 102/200\n",
            "3/3 [==============================] - 0s 5ms/step - loss: 0.4710 - accuracy: 0.8859\n",
            "Epoch 103/200\n",
            "3/3 [==============================] - 0s 5ms/step - loss: 0.4364 - accuracy: 0.8998\n",
            "Epoch 104/200\n",
            "3/3 [==============================] - 0s 5ms/step - loss: 0.4415 - accuracy: 0.8959\n",
            "Epoch 105/200\n",
            "3/3 [==============================] - 0s 5ms/step - loss: 0.4465 - accuracy: 0.8937\n",
            "Epoch 106/200\n",
            "3/3 [==============================] - 0s 4ms/step - loss: 0.4679 - accuracy: 0.8943\n",
            "Epoch 107/200\n",
            "3/3 [==============================] - 0s 5ms/step - loss: 0.4373 - accuracy: 0.8976\n",
            "Epoch 108/200\n",
            "3/3 [==============================] - 0s 5ms/step - loss: 0.4549 - accuracy: 0.8920\n",
            "Epoch 109/200\n",
            "3/3 [==============================] - 0s 5ms/step - loss: 0.4245 - accuracy: 0.9317\n",
            "Epoch 110/200\n",
            "3/3 [==============================] - 0s 5ms/step - loss: 0.4285 - accuracy: 0.8904\n",
            "Epoch 111/200\n",
            "3/3 [==============================] - 0s 5ms/step - loss: 0.3772 - accuracy: 0.9116\n",
            "Epoch 112/200\n",
            "3/3 [==============================] - 0s 5ms/step - loss: 0.4021 - accuracy: 0.9099\n",
            "Epoch 113/200\n",
            "3/3 [==============================] - 0s 5ms/step - loss: 0.3819 - accuracy: 0.9434\n",
            "Epoch 114/200\n",
            "3/3 [==============================] - 0s 4ms/step - loss: 0.3888 - accuracy: 0.8819\n",
            "Epoch 115/200\n",
            "3/3 [==============================] - 0s 5ms/step - loss: 0.3750 - accuracy: 0.9161\n",
            "Epoch 116/200\n",
            "3/3 [==============================] - 0s 5ms/step - loss: 0.3782 - accuracy: 0.9379\n",
            "Epoch 117/200\n",
            "3/3 [==============================] - 0s 5ms/step - loss: 0.3470 - accuracy: 0.9334\n",
            "Epoch 118/200\n",
            "3/3 [==============================] - 0s 5ms/step - loss: 0.3855 - accuracy: 0.8702\n",
            "Epoch 119/200\n",
            "3/3 [==============================] - 0s 8ms/step - loss: 0.3281 - accuracy: 0.9379\n",
            "Epoch 120/200\n",
            "3/3 [==============================] - 0s 5ms/step - loss: 0.3235 - accuracy: 0.9597\n",
            "Epoch 121/200\n",
            "3/3 [==============================] - 0s 5ms/step - loss: 0.3391 - accuracy: 0.9636\n",
            "Epoch 122/200\n",
            "3/3 [==============================] - 0s 5ms/step - loss: 0.3335 - accuracy: 0.9558\n",
            "Epoch 123/200\n",
            "3/3 [==============================] - 0s 4ms/step - loss: 0.3292 - accuracy: 0.9122\n",
            "Epoch 124/200\n",
            "3/3 [==============================] - 0s 5ms/step - loss: 0.3161 - accuracy: 0.9278\n",
            "Epoch 125/200\n",
            "3/3 [==============================] - 0s 5ms/step - loss: 0.2997 - accuracy: 0.9480\n",
            "Epoch 126/200\n",
            "3/3 [==============================] - 0s 4ms/step - loss: 0.2926 - accuracy: 0.9837\n",
            "Epoch 127/200\n",
            "3/3 [==============================] - 0s 5ms/step - loss: 0.2991 - accuracy: 0.9675\n",
            "Epoch 128/200\n",
            "3/3 [==============================] - 0s 4ms/step - loss: 0.3250 - accuracy: 0.9379\n",
            "Epoch 129/200\n",
            "3/3 [==============================] - 0s 6ms/step - loss: 0.3037 - accuracy: 0.9463\n",
            "Epoch 130/200\n",
            "3/3 [==============================] - 0s 5ms/step - loss: 0.2841 - accuracy: 0.9837\n",
            "Epoch 131/200\n",
            "3/3 [==============================] - 0s 5ms/step - loss: 0.2859 - accuracy: 0.9340\n",
            "Epoch 132/200\n",
            "3/3 [==============================] - 0s 4ms/step - loss: 0.2967 - accuracy: 0.9541\n",
            "Epoch 133/200\n",
            "3/3 [==============================] - 0s 5ms/step - loss: 0.2759 - accuracy: 0.9720\n",
            "Epoch 134/200\n",
            "3/3 [==============================] - 0s 5ms/step - loss: 0.2683 - accuracy: 0.9418\n",
            "Epoch 135/200\n",
            "3/3 [==============================] - 0s 5ms/step - loss: 0.2925 - accuracy: 0.9184\n",
            "Epoch 136/200\n",
            "3/3 [==============================] - 0s 5ms/step - loss: 0.2551 - accuracy: 0.9798\n",
            "Epoch 137/200\n",
            "3/3 [==============================] - 0s 5ms/step - loss: 0.2473 - accuracy: 0.9798\n",
            "Epoch 138/200\n",
            "3/3 [==============================] - 0s 5ms/step - loss: 0.2725 - accuracy: 0.9659\n",
            "Epoch 139/200\n",
            "3/3 [==============================] - 0s 6ms/step - loss: 0.2454 - accuracy: 0.9938\n",
            "Epoch 140/200\n",
            "3/3 [==============================] - 0s 4ms/step - loss: 0.2429 - accuracy: 0.9759\n",
            "Epoch 141/200\n",
            "3/3 [==============================] - 0s 4ms/step - loss: 0.2289 - accuracy: 0.9899\n",
            "Epoch 142/200\n",
            "3/3 [==============================] - 0s 6ms/step - loss: 0.2458 - accuracy: 0.9597\n",
            "Epoch 143/200\n",
            "3/3 [==============================] - 0s 5ms/step - loss: 0.2416 - accuracy: 0.9759\n",
            "Epoch 144/200\n",
            "3/3 [==============================] - 0s 6ms/step - loss: 0.2741 - accuracy: 0.9541\n",
            "Epoch 145/200\n",
            "3/3 [==============================] - 0s 5ms/step - loss: 0.2047 - accuracy: 0.9899\n",
            "Epoch 146/200\n",
            "3/3 [==============================] - 0s 5ms/step - loss: 0.2300 - accuracy: 0.9759\n",
            "Epoch 147/200\n",
            "3/3 [==============================] - 0s 5ms/step - loss: 0.2338 - accuracy: 0.9720\n",
            "Epoch 148/200\n",
            "3/3 [==============================] - 0s 5ms/step - loss: 0.2149 - accuracy: 0.9899\n",
            "Epoch 149/200\n",
            "3/3 [==============================] - 0s 5ms/step - loss: 0.2187 - accuracy: 0.9899\n",
            "Epoch 150/200\n",
            "3/3 [==============================] - 0s 5ms/step - loss: 0.2011 - accuracy: 0.9798\n",
            "Epoch 151/200\n",
            "3/3 [==============================] - 0s 4ms/step - loss: 0.2117 - accuracy: 0.9821\n",
            "Epoch 152/200\n",
            "3/3 [==============================] - 0s 4ms/step - loss: 0.2000 - accuracy: 0.9821\n",
            "Epoch 153/200\n",
            "3/3 [==============================] - 0s 4ms/step - loss: 0.1971 - accuracy: 0.9821\n",
            "Epoch 154/200\n",
            "3/3 [==============================] - 0s 5ms/step - loss: 0.1854 - accuracy: 0.9899\n",
            "Epoch 155/200\n",
            "3/3 [==============================] - 0s 4ms/step - loss: 0.1827 - accuracy: 0.9899\n",
            "Epoch 156/200\n",
            "3/3 [==============================] - 0s 5ms/step - loss: 0.1769 - accuracy: 0.9938\n",
            "Epoch 157/200\n",
            "3/3 [==============================] - 0s 5ms/step - loss: 0.1718 - accuracy: 0.9938\n",
            "Epoch 158/200\n",
            "3/3 [==============================] - 0s 5ms/step - loss: 0.1782 - accuracy: 0.9899\n",
            "Epoch 159/200\n",
            "3/3 [==============================] - 0s 5ms/step - loss: 0.1797 - accuracy: 0.9837\n",
            "Epoch 160/200\n",
            "3/3 [==============================] - 0s 5ms/step - loss: 0.1724 - accuracy: 0.9938\n",
            "Epoch 161/200\n",
            "3/3 [==============================] - 0s 7ms/step - loss: 0.1877 - accuracy: 0.9938\n",
            "Epoch 162/200\n",
            "3/3 [==============================] - 0s 9ms/step - loss: 0.1778 - accuracy: 0.9899\n",
            "Epoch 163/200\n",
            "3/3 [==============================] - 0s 5ms/step - loss: 0.1715 - accuracy: 0.9759\n",
            "Epoch 164/200\n",
            "3/3 [==============================] - 0s 8ms/step - loss: 0.1787 - accuracy: 0.9899\n",
            "Epoch 165/200\n",
            "3/3 [==============================] - 0s 4ms/step - loss: 0.1601 - accuracy: 0.9899\n",
            "Epoch 166/200\n",
            "3/3 [==============================] - 0s 5ms/step - loss: 0.1599 - accuracy: 0.9938\n",
            "Epoch 167/200\n",
            "3/3 [==============================] - 0s 5ms/step - loss: 0.1607 - accuracy: 0.9821\n",
            "Epoch 168/200\n",
            "3/3 [==============================] - 0s 5ms/step - loss: 0.1524 - accuracy: 0.9938\n",
            "Epoch 169/200\n",
            "3/3 [==============================] - 0s 5ms/step - loss: 0.1423 - accuracy: 0.9899\n",
            "Epoch 170/200\n",
            "3/3 [==============================] - 0s 5ms/step - loss: 0.1503 - accuracy: 1.0000\n",
            "Epoch 171/200\n",
            "3/3 [==============================] - 0s 5ms/step - loss: 0.1456 - accuracy: 1.0000\n",
            "Epoch 172/200\n",
            "3/3 [==============================] - 0s 6ms/step - loss: 0.1505 - accuracy: 1.0000\n",
            "Epoch 173/200\n",
            "3/3 [==============================] - 0s 5ms/step - loss: 0.1347 - accuracy: 1.0000\n",
            "Epoch 174/200\n",
            "3/3 [==============================] - 0s 5ms/step - loss: 0.1443 - accuracy: 1.0000\n",
            "Epoch 175/200\n",
            "3/3 [==============================] - 0s 6ms/step - loss: 0.1484 - accuracy: 1.0000\n",
            "Epoch 176/200\n",
            "3/3 [==============================] - 0s 4ms/step - loss: 0.1460 - accuracy: 1.0000\n",
            "Epoch 177/200\n",
            "3/3 [==============================] - 0s 5ms/step - loss: 0.1466 - accuracy: 1.0000\n",
            "Epoch 178/200\n",
            "3/3 [==============================] - 0s 7ms/step - loss: 0.1337 - accuracy: 1.0000\n",
            "Epoch 179/200\n",
            "3/3 [==============================] - 0s 5ms/step - loss: 0.1284 - accuracy: 1.0000\n",
            "Epoch 180/200\n",
            "3/3 [==============================] - 0s 5ms/step - loss: 0.1320 - accuracy: 1.0000\n",
            "Epoch 181/200\n",
            "3/3 [==============================] - 0s 5ms/step - loss: 0.1313 - accuracy: 1.0000\n",
            "Epoch 182/200\n",
            "3/3 [==============================] - 0s 5ms/step - loss: 0.1354 - accuracy: 1.0000\n",
            "Epoch 183/200\n",
            "3/3 [==============================] - 0s 5ms/step - loss: 0.1291 - accuracy: 1.0000\n",
            "Epoch 184/200\n",
            "3/3 [==============================] - 0s 5ms/step - loss: 0.1365 - accuracy: 1.0000\n",
            "Epoch 185/200\n",
            "3/3 [==============================] - 0s 5ms/step - loss: 0.1109 - accuracy: 1.0000\n",
            "Epoch 186/200\n",
            "3/3 [==============================] - 0s 5ms/step - loss: 0.1332 - accuracy: 1.0000\n",
            "Epoch 187/200\n",
            "3/3 [==============================] - 0s 5ms/step - loss: 0.1305 - accuracy: 1.0000\n",
            "Epoch 188/200\n",
            "3/3 [==============================] - 0s 5ms/step - loss: 0.1243 - accuracy: 1.0000\n",
            "Epoch 189/200\n",
            "3/3 [==============================] - 0s 5ms/step - loss: 0.1253 - accuracy: 1.0000\n",
            "Epoch 190/200\n",
            "3/3 [==============================] - 0s 5ms/step - loss: 0.1204 - accuracy: 1.0000\n",
            "Epoch 191/200\n",
            "3/3 [==============================] - 0s 5ms/step - loss: 0.1090 - accuracy: 1.0000\n",
            "Epoch 192/200\n",
            "3/3 [==============================] - 0s 5ms/step - loss: 0.1151 - accuracy: 1.0000\n",
            "Epoch 193/200\n",
            "3/3 [==============================] - 0s 5ms/step - loss: 0.1012 - accuracy: 1.0000\n",
            "Epoch 194/200\n",
            "3/3 [==============================] - 0s 4ms/step - loss: 0.1147 - accuracy: 1.0000\n",
            "Epoch 195/200\n",
            "3/3 [==============================] - 0s 5ms/step - loss: 0.1069 - accuracy: 1.0000\n",
            "Epoch 196/200\n",
            "3/3 [==============================] - 0s 4ms/step - loss: 0.1154 - accuracy: 1.0000\n",
            "Epoch 197/200\n",
            "3/3 [==============================] - 0s 4ms/step - loss: 0.0971 - accuracy: 1.0000\n",
            "Epoch 198/200\n",
            "3/3 [==============================] - 0s 5ms/step - loss: 0.1091 - accuracy: 1.0000\n",
            "Epoch 199/200\n",
            "3/3 [==============================] - 0s 4ms/step - loss: 0.0949 - accuracy: 1.0000\n",
            "Epoch 200/200\n",
            "3/3 [==============================] - 0s 5ms/step - loss: 0.1019 - accuracy: 1.0000\n"
          ],
          "name": "stdout"
        }
      ]
    },
    {
      "cell_type": "code",
      "metadata": {
        "colab": {
          "base_uri": "https://localhost:8080/",
          "height": 282
        },
        "id": "xaePzCuqvimJ",
        "outputId": "ab8fab24-2bc4-45b3-be47-038e3daf4bb1"
      },
      "source": [
        "plt.plot(train.history['accuracy'],label='training set accuracy')\n",
        "plt.plot(train.history['loss'],label='training set loss')\n",
        "plt.legend()"
      ],
      "execution_count": 29,
      "outputs": [
        {
          "output_type": "execute_result",
          "data": {
            "text/plain": [
              "<matplotlib.legend.Legend at 0x7f651e0c42d0>"
            ]
          },
          "metadata": {
            "tags": []
          },
          "execution_count": 29
        },
        {
          "output_type": "display_data",
          "data": {
            "image/png": "[encoded data removed]",
            "text/plain": [
              "<Figure size 432x288 with 1 Axes>"
            ]
          },
          "metadata": {
            "tags": [],
            "needs_background": "light"
          }
        }
      ]
    },
    {
      "cell_type": "code",
      "metadata": {
        "id": "FdpfByhCwDYS"
      },
      "source": [
        "def start_chat():\n",
        "  while True:\n",
        "    texts_p = []\n",
        "    prediction_input = input('You : ')\n",
        "\n",
        "    #removing punctuation and converting to lowercase\n",
        "    prediction_input = [letters.lower() for letters in prediction_input if letters not in string.punctuation]\n",
        "    prediction_input = ''.join(prediction_input)\n",
        "    texts_p.append(prediction_input)\n",
        "\n",
        "    #tokenizing and padding\n",
        "    prediction_input = tokenizer.texts_to_sequences(texts_p)\n",
        "    prediction_input = np.array(prediction_input).reshape(-1)\n",
        "    prediction_input = pad_sequences([prediction_input],input_shape)\n",
        "\n",
        "    #getting output from model\n",
        "    output = model.predict(prediction_input)\n",
        "    output = output.argmax()\n",
        "\n",
        "    #finding the right tag and predicting\n",
        "    response_tag = le.inverse_transform([output])[0]\n",
        "    print(\"Going Merry : \",random.choice(responses[response_tag]))\n",
        "    if response_tag == \"goodbye\":\n",
        "      break\n",
        "\n"
      ],
      "execution_count": 34,
      "outputs": []
    },
    {
      "cell_type": "code",
      "metadata": {
        "colab": {
          "base_uri": "https://localhost:8080/"
        },
        "id": "wmQEa0CYxWTf",
        "outputId": "ea0c499e-82f5-47ee-b15e-3ef3ca9634ac"
      },
      "source": [
        "start_chat()\n"
      ],
      "execution_count": 35,
      "outputs": [
        {
          "output_type": "stream",
          "text": [
            "You : hi\n",
            "Going Merry :  Hi. Welcome to the world's largest pirate organization - The Strawhats\n",
            "You : how are you \n",
            "Going Merry :  I am doing good. Life is boring. need to go on an adventure\n",
            "You : bye\n",
            "Going Merry :  Goodbye\n"
          ],
          "name": "stdout"
        }
      ]
    }
  ]
}